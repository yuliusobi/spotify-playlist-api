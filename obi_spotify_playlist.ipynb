{
 "cells": [
  {
   "cell_type": "code",
   "execution_count": null,
   "metadata": {},
   "outputs": [],
   "source": [
    "# import spotipy library\n",
    "import spotipy\n",
    "from spotipy.oauth2 import SpotifyClientCredentials\n",
    "from spotipy.oauth2 import SpotifyOAuth\n",
    "\n",
    "import os \n",
    "import pandas as pd"
   ]
  },
  {
   "cell_type": "code",
   "execution_count": null,
   "metadata": {},
   "outputs": [],
   "source": [
    "# setting up the credentials\n",
    "# Create app API in developer.spotify.com\n",
    "os.environ['SPOTIPY_CLIENT_ID'] = {YOUR_CLIENT_ID}\n",
    "os.environ['SPOTIPY_CLIENT_SECRET'] = {YOUR_CLIENT_SECRET}\n",
    "os.environ['SPOTIPY_REDIRECT_URI'] = {YOUR_REDIRECT_URL}"
   ]
  },
  {
   "cell_type": "code",
   "execution_count": null,
   "metadata": {},
   "outputs": [],
   "source": [
    "# Auth to using user API using credential Auth\n",
    "scope = \"playlist-modify-public\"\n",
    "sp = spotipy.Spotify(auth_manager=SpotifyOAuth(scope=scope))\n",
    "user_id = sp.me()['id']\n"
   ]
  },
  {
   "cell_type": "code",
   "execution_count": null,
   "metadata": {},
   "outputs": [],
   "source": [
    "# sp.current_user_follow_playlist()"
   ]
  },
  {
   "cell_type": "code",
   "execution_count": null,
   "metadata": {},
   "outputs": [],
   "source": [
    "def get_playlist_tracks(playlist_id):\n",
    "    results = sp.playlist_tracks(playlist_id)\n",
    "    tracks = results['items']\n",
    "    while results['next']:\n",
    "        results = sp.next(results)\n",
    "        tracks.extend(results['items'])\n",
    "    return tracks"
   ]
  },
  {
   "cell_type": "code",
   "execution_count": null,
   "metadata": {},
   "outputs": [],
   "source": [
    "all_track_ids = []"
   ]
  },
  {
   "cell_type": "code",
   "execution_count": null,
   "metadata": {},
   "outputs": [],
   "source": [
    "all_in = get_playlist_tracks('6y3UDKRhVtfa4hAKCszqNl')\n",
    "# new_jeans_mix = get_playlist_tracks('37i9dQZF1EIXtL62omEoXC')\n",
    "# creepy_nuts_mix = get_playlist_tracks('37i9dQZF1EIXtL62omEoXC')"
   ]
  },
  {
   "cell_type": "code",
   "execution_count": null,
   "metadata": {},
   "outputs": [],
   "source": [
    "def input_track_to_all_track_ids(current_mix):\n",
    "    global all_track_ids\n",
    "    for i in current_mix:\n",
    "        all_track_ids.append(i['track']['id'])"
   ]
  },
  {
   "cell_type": "code",
   "execution_count": null,
   "metadata": {},
   "outputs": [],
   "source": [
    "# append to all_track_ids\n",
    "input_track_to_all_track_ids(all_in)\n",
    "# input_track_to_all_track_ids(creepy_nuts_mix)"
   ]
  },
  {
   "cell_type": "code",
   "execution_count": null,
   "metadata": {},
   "outputs": [],
   "source": [
    "# all_track_ids[49]\n",
    "len(all_track_ids)\n",
    "# all_track_ids"
   ]
  },
  {
   "cell_type": "code",
   "execution_count": null,
   "metadata": {},
   "outputs": [],
   "source": [
    "# sp.audio_features('0pHylQR53epYtRcVIhUSCh')\n",
    "# sp.audio_analysis('0pHylQR53epYtRcVIhUSCh')\n",
    "# sp.track('70t7Q6AYG6ZgTYmJWcnkUM')"
   ]
  },
  {
   "cell_type": "code",
   "execution_count": null,
   "metadata": {},
   "outputs": [],
   "source": [
    "def get_track_features(id):\n",
    "    metadata = sp.track(id)\n",
    "    features = sp.audio_features(id)\n",
    "\n",
    "    # metadata\n",
    "    track_id = id\n",
    "    name = metadata['name']\n",
    "    album = metadata['album']['name']\n",
    "    artist = metadata['album']['artists'][0]['name']\n",
    "    release_date = metadata['album']['release_date']\n",
    "    length = metadata['duration_ms']\n",
    "    popularity = metadata['popularity']\n",
    "\n",
    "    # audio features\n",
    "    acousticness = features[0]['acousticness']\n",
    "    danceability = features[0]['danceability']\n",
    "    energy = features[0]['energy']\n",
    "    instrumentalness = features[0]['instrumentalness']\n",
    "    liveness = features[0]['liveness']\n",
    "    loudness = features[0]['loudness']\n",
    "    speechiness = features[0]['speechiness']\n",
    "    tempo = features[0]['tempo']\n",
    "    time_signature = features[0]['time_signature']\n",
    "\n",
    "    track = [track_id, name, album, artist, release_date, length, popularity, acousticness, danceability, energy, instrumentalness, liveness, loudness, speechiness, tempo, time_signature]\n",
    "    return track"
   ]
  },
  {
   "cell_type": "code",
   "execution_count": null,
   "metadata": {},
   "outputs": [],
   "source": [
    "tracks = []"
   ]
  },
  {
   "cell_type": "code",
   "execution_count": null,
   "metadata": {},
   "outputs": [],
   "source": [
    "min = 0\n",
    "max = 50\n",
    "for i in range(min,max):\n",
    "  track = get_track_features(all_track_ids[i])\n",
    "  tracks.append(track)\n",
    "\n",
    "len(tracks)"
   ]
  },
  {
   "cell_type": "code",
   "execution_count": null,
   "metadata": {},
   "outputs": [],
   "source": [
    "# tracks[1335]\n",
    "# len(tracks)"
   ]
  },
  {
   "cell_type": "code",
   "execution_count": null,
   "metadata": {},
   "outputs": [],
   "source": [
    "df = pd.DataFrame(tracks, columns = ['track_id','name', 'album', 'artist', 'release_date', 'length', 'popularity', 'danceability', 'acousticness', 'energy', 'instrumentalness', 'liveness', 'loudness', 'speechiness', 'tempo', 'time_signature'])\n",
    "df['name'] = df['name'].astype(\"string\")\n",
    "df = df.dropna().reset_index()\n",
    "df['is_id'] = \"\""
   ]
  },
  {
   "cell_type": "code",
   "execution_count": null,
   "metadata": {},
   "outputs": [],
   "source": [
    "def load_lst_file(file_path):\n",
    "    with open(file_path, 'r', encoding='latin-1') as file:\n",
    "        # Read each line, strip whitespace, and filter out words with length < 3\n",
    "        words_list = [line.strip() for line in file if len(line.strip()) >= 3]\n",
    "    return words_list\n",
    "\n",
    "# Usage example\n",
    "file_path = 'indonesian-wordlist.lst'\n",
    "indonesian_keywords = load_lst_file(file_path)\n",
    "len(indonesian_keywords)"
   ]
  },
  {
   "cell_type": "code",
   "execution_count": null,
   "metadata": {},
   "outputs": [],
   "source": [
    "for i in range(len(df)):\n",
    "    flag = \"no\"\n",
    "    for title in df.loc[i,'name'].lower().split():\n",
    "        for keyword in indonesian_keywords: \n",
    "            if title == keyword.lower():\n",
    "                df.loc[i,'is_id'] = True\n",
    "                flag = \"yes\"\n",
    "                break\n",
    "    if flag == \"no\":\n",
    "        df.loc[i,'is_id'] = False\n",
    "\n",
    "df.loc[df['is_id'] == True]"
   ]
  },
  {
   "cell_type": "code",
   "execution_count": null,
   "metadata": {},
   "outputs": [],
   "source": [
    "# df.to_excel('all_in_playlist.xlsx', index = False)\n",
    "df = pd.read_excel('all_in_playlist.xlsx')"
   ]
  },
  {
   "cell_type": "code",
   "execution_count": null,
   "metadata": {},
   "outputs": [],
   "source": [
    "# input_tracks = df.loc[df['energy'] > 0.5].sort_values(by='release_date',ascending= False)['track_id'].drop_duplicates().tolist()\n",
    "input_tracks = df.loc[df['is_id'] == True].sort_values(by='release_date',ascending= False)['track_id'].drop_duplicates().tolist()\n",
    "len(input_tracks)"
   ]
  },
  {
   "cell_type": "code",
   "execution_count": null,
   "metadata": {},
   "outputs": [],
   "source": [
    "sp.user_playlist_create(user_id, 'indo true', public=True, collaborative=False, description='python filter by title for indonesian song from `all in` playlist')"
   ]
  },
  {
   "cell_type": "code",
   "execution_count": null,
   "metadata": {},
   "outputs": [],
   "source": [
    "print(len(input_tracks))\n",
    "min_iloc = 0\n",
    "max_iloc = 100\n",
    "sp.playlist_add_items('3RjAmLKOxlwiRLSE8lTmSg', input_tracks[min_iloc:max_iloc])\n",
    "\n",
    "indo_true = get_playlist_tracks('3RjAmLKOxlwiRLSE8lTmSg')\n",
    "print(len(indo_true))"
   ]
  }
 ],
 "metadata": {
  "kernelspec": {
   "display_name": "Python 3",
   "language": "python",
   "name": "python3"
  },
  "language_info": {
   "codemirror_mode": {
    "name": "ipython",
    "version": 3
   },
   "file_extension": ".py",
   "mimetype": "text/x-python",
   "name": "python",
   "nbconvert_exporter": "python",
   "pygments_lexer": "ipython3",
   "version": "3.9.13"
  }
 },
 "nbformat": 4,
 "nbformat_minor": 2
}
